{
  "nbformat": 4,
  "nbformat_minor": 0,
  "metadata": {
    "colab": {
      "name": "L- layer NN ",
      "provenance": [],
      "collapsed_sections": [],
      "toc_visible": true,
      "mount_file_id": "1xSj5iWAyNysGz9lkn_1qZOLi7wFZpDvY",
      "authorship_tag": "ABX9TyOBF3iLyaEH2j4YS0OBspJo",
      "include_colab_link": true
    },
    "kernelspec": {
      "name": "python3",
      "display_name": "Python 3"
    },
    "language_info": {
      "name": "python"
    }
  },
  "cells": [
    {
      "cell_type": "markdown",
      "metadata": {
        "id": "view-in-github",
        "colab_type": "text"
      },
      "source": [
        "<a href=\"https://colab.research.google.com/github/Shohail786/L-layers_NN_for_classification/blob/main/L_layer_NN.ipynb\" target=\"_parent\"><img src=\"https://colab.research.google.com/assets/colab-badge.svg\" alt=\"Open In Colab\"/></a>"
      ]
    },
    {
      "cell_type": "code",
      "execution_count": null,
      "metadata": {
        "id": "sGIQotYaatRU"
      },
      "outputs": [],
      "source": [
        "import numpy as np\n",
        "import matplotlib.pyplot as plt\n",
        "import time\n",
        "import h5py\n",
        "import copy\n",
        "import sklearn\n",
        "import sklearn.datasets\n",
        "import sklearn.linear_model"
      ]
    },
    {
      "cell_type": "code",
      "source": [
        "trainfile=\"/content/drive/MyDrive/DataSet_cat&non-cat/train_catvnoncat.h5\"\n",
        "testfile=\"/content/drive/MyDrive/DataSet_cat&non-cat/test_catvnoncat.h5\""
      ],
      "metadata": {
        "id": "TVuP20hV6aw_"
      },
      "execution_count": null,
      "outputs": []
    },
    {
      "cell_type": "code",
      "source": [
        "def load_dataset():\n",
        "  train_dataset=h5py.File(trainfile,\"r\")\n",
        "  train_set_x_orig=np.array(train_dataset[\"train_set_x\"][:])\n",
        "  train_set_y_orig=np.array(train_dataset[\"train_set_y\"][:])\n",
        "  train_set_y_orig=train_set_y_orig.reshape((1,train_set_y_orig.shape[0]))\n",
        "  test_dataset=h5py.File(testfile,'r')\n",
        "  test_set_x_orig=np.array(test_dataset[\"test_set_x\"][:])\n",
        "  test_set_y_orig=np.array(test_dataset[\"test_set_y\"][:])\n",
        "  test_set_y_orig=test_set_y_orig.reshape((1,test_set_y_orig.shape[0]))\n",
        "  classes=np.array(test_dataset[\"list_classes\"][:])\n",
        "  return train_set_x_orig,train_set_y_orig,test_set_x_orig,test_set_y_orig,classes\n"
      ],
      "metadata": {
        "id": "poqgPVYp6okk"
      },
      "execution_count": null,
      "outputs": []
    },
    {
      "cell_type": "code",
      "source": [
        "def load_dataset():\n",
        "  train_dataset=h5py.File(trainfile,\"r\")\n",
        "  train_set_x_orig=np.array(train_dataset[\"train_set_x\"][:])\n",
        "  train_set_y_orig=np.array(train_dataset[\"train_set_y\"][:])\n",
        "  train_set_y_orig=train_set_y_orig.reshape((1,train_set_y_orig.shape[0]))\n",
        "  test_dataset=h5py.File(testfile,'r')\n",
        "  test_set_x_orig=np.array(test_dataset[\"test_set_x\"][:])\n",
        "  test_set_y_orig=np.array(test_dataset[\"test_set_y\"][:])\n",
        "  test_set_y_orig=test_set_y_orig.reshape((1,test_set_y_orig.shape[0]))\n",
        "  classes=np.array(test_dataset[\"list_classes\"][:])\n",
        "  return train_set_x_orig,train_set_y_orig,test_set_x_orig,test_set_y_orig,classes\n"
      ],
      "metadata": {
        "id": "0Ue2Lmg_6dzj"
      },
      "execution_count": null,
      "outputs": []
    },
    {
      "cell_type": "code",
      "source": [
        "train_set_x_orig,train_set_y_orig,test_set_x_orig,test_set_y_orig,classes=load_dataset()"
      ],
      "metadata": {
        "id": "gZkNg-F46hiw"
      },
      "execution_count": null,
      "outputs": []
    },
    {
      "cell_type": "code",
      "source": [
        "index=10\n",
        "plt.imshow(train_set_x_orig[index])\n",
        "print(\"y=\"+str(train_set_y_orig[:,index])+\" , it's a \"+classes[np.squeeze(train_set_y_orig[:,index])].decode(\"utf-8\")+\" picture\")"
      ],
      "metadata": {
        "colab": {
          "base_uri": "https://localhost:8080/",
          "height": 285
        },
        "id": "WlygEZbF7QZY",
        "outputId": "ecf72830-629a-4b9e-8874-d0f5128128de"
      },
      "execution_count": null,
      "outputs": [
        {
          "output_type": "stream",
          "name": "stdout",
          "text": [
            "y=[0] , it's a non-cat picture\n"
          ]
        },
        {
          "output_type": "display_data",
          "data": {
            "text/plain": [
              "<Figure size 432x288 with 1 Axes>"
            ],
            "image/png": "[encoded data removed]"
          },
          "metadata": {
            "needs_background": "light"
          }
        }
      ]
    },
    {
      "cell_type": "code",
      "source": [
        "m_train=train_set_x_orig.shape[0]\n",
        "m_test=test_set_x_orig.shape[0]\n",
        "img_dim=train_set_x_orig.shape[1]\n",
        "print(\"m_train: \"+str(m_train))\n",
        "print(\"m_test: \"+str(m_test))\n",
        "print(\"img_dim: \"+str(img_dim))"
      ],
      "metadata": {
        "colab": {
          "base_uri": "https://localhost:8080/"
        },
        "id": "yWSKzwWE7bzx",
        "outputId": "e110369d-051b-49c5-aff0-b132e856b692"
      },
      "execution_count": null,
      "outputs": [
        {
          "output_type": "stream",
          "name": "stdout",
          "text": [
            "m_train: 209\n",
            "m_test: 50\n",
            "img_dim: 64\n"
          ]
        }
      ]
    },
    {
      "cell_type": "code",
      "source": [
        "#flatten the image dim to a vector (img_dim*img_dim*3,1)\n",
        "train_set_x_flatten=train_set_x_orig.reshape(m_train,-1).T\n",
        "print(train_set_x_flatten.shape)\n",
        "test_set_x_flatten=test_set_x_orig.reshape(m_test,-1).T\n",
        "print(test_set_x_flatten.shape)"
      ],
      "metadata": {
        "colab": {
          "base_uri": "https://localhost:8080/"
        },
        "id": "AOyok9DU7g4N",
        "outputId": "3c529dd1-8f79-4097-daf9-23d6b3a2681b"
      },
      "execution_count": null,
      "outputs": [
        {
          "output_type": "stream",
          "name": "stdout",
          "text": [
            "(12288, 209)\n",
            "(12288, 50)\n"
          ]
        }
      ]
    },
    {
      "cell_type": "code",
      "source": [
        "#standardize the dataset or preprocess\n",
        "#image divide by 255\n",
        "train_set_x=train_set_x_flatten/255\n",
        "test_set_x=test_set_x_flatten/255\n"
      ],
      "metadata": {
        "id": "rCh9Dmrg7lOm"
      },
      "execution_count": null,
      "outputs": []
    },
    {
      "cell_type": "code",
      "source": [
        "\n",
        "noisy_circles=sklearn.datasets.make_circles(n_samples=200,factor=0.8,noise=.3)\n",
        "noisy_moons=sklearn.datasets.make_moons(n_samples=200,noise=.2)\n",
        "X1,Y1=noisy_circles\n",
        "X1,Y1=X1.T,Y1.reshape(1,Y1.shape[0])\n",
        "print(X1.shape)\n",
        "print(Y1.shape)\n",
        "X2,Y2=noisy_moons\n",
        "X2,Y2=X2.T,Y2.reshape(1,Y2.shape[0])\n",
        "print(X2.shape)\n",
        "print(Y2.shape)\n",
        "\n"
      ],
      "metadata": {
        "colab": {
          "base_uri": "https://localhost:8080/"
        },
        "id": "YGPu12JHx3BX",
        "outputId": "ed6a312e-15c2-4be5-e432-9cb962723d64"
      },
      "execution_count": null,
      "outputs": [
        {
          "output_type": "stream",
          "name": "stdout",
          "text": [
            "(2, 200)\n",
            "(1, 200)\n",
            "(2, 200)\n",
            "(1, 200)\n"
          ]
        }
      ]
    },
    {
      "cell_type": "code",
      "source": [
        "def layer_sizes(X1,Y1):\n",
        "  n_x=X1.shape[0];\n",
        "  n_y=Y1.shape[0];\n",
        "  n_h=4;\n",
        "  return (n_x,n_y,n_h)"
      ],
      "metadata": {
        "id": "-vrakBJbyHaS"
      },
      "execution_count": null,
      "outputs": []
    },
    {
      "cell_type": "code",
      "source": [
        "def initialize_parameters_deep(layer_dims):\n",
        "  np.random.seed(1)\n",
        "  parameters={}\n",
        "  L=len(layer_dims)\n",
        "  for l in range(1,L):\n",
        "    parameters['W' + str(l)] = np.random.randn(layer_dims[l], layer_dims[l-1]) / np.sqrt(layer_dims[l-1])\n",
        "    parameters['b'+str(l)]=np.zeros((layer_dims[l],1))\n",
        "\n",
        "  return parameters"
      ],
      "metadata": {
        "id": "m4AVltHGbihi"
      },
      "execution_count": null,
      "outputs": []
    },
    {
      "cell_type": "code",
      "source": [
        "def relu(Z):\n",
        "  A=np.maximum(0,Z)\n",
        "  cache=Z\n",
        "  return A,cache"
      ],
      "metadata": {
        "id": "iaWXHmrhdNc9"
      },
      "execution_count": null,
      "outputs": []
    },
    {
      "cell_type": "code",
      "source": [
        "def sigmoid(Z):\n",
        "  A=1/(1+np.exp(-Z))\n",
        "  cache=Z\n",
        "  return A,cache"
      ],
      "metadata": {
        "id": "8MmEDcLjdiDc"
      },
      "execution_count": null,
      "outputs": []
    },
    {
      "cell_type": "code",
      "source": [
        "def linear_forward(A,W,b):\n",
        "  Z=np.dot(W,A)+b\n",
        "  cache=(A,W,b)\n",
        "  return Z,cache"
      ],
      "metadata": {
        "id": "KHa6WPyYeH5s"
      },
      "execution_count": null,
      "outputs": []
    },
    {
      "cell_type": "code",
      "source": [
        "def linear_activation_forward(A_prev,W,b,activation):\n",
        "  if activation==\"sigmoid\":\n",
        "    Z,linear_cache=linear_forward(A_prev,W,b)\n",
        "    A,activation_cache=sigmoid(Z)\n",
        "  elif activation==\"relu\":\n",
        "    Z,linear_cache=linear_forward(A_prev,W,b)\n",
        "    A,activation_cache=relu(Z)\n",
        "  cache=(linear_cache,activation_cache)\n",
        "  return A,cache\n",
        "#linear_cache=A_prev,W,b  \\\\ activation_cache=Z  \\\\ cache=A_prev,W,b,Z"
      ],
      "metadata": {
        "id": "ABnqPLc5etvE"
      },
      "execution_count": null,
      "outputs": []
    },
    {
      "cell_type": "code",
      "source": [
        "def L_model_forward(X,parameters):\n",
        "  caches=[]\n",
        "  A=X\n",
        "  L=len(parameters)//2\n",
        "  for l in range(1,L):\n",
        "    A_prev = A \n",
        "    A, cache = linear_activation_forward(A_prev, parameters['W' + str(l)], parameters['b' + str(l)], activation = \"relu\")\n",
        "    caches.append(cache)\n",
        "  AL, cache = linear_activation_forward(A, parameters['W' + str(L)], parameters['b' + str(L)], activation = \"sigmoid\")\n",
        "  caches.append(cache)\n",
        "  \n",
        "  return AL,caches"
      ],
      "metadata": {
        "id": "lrtuaq17gvaz"
      },
      "execution_count": null,
      "outputs": []
    },
    {
      "cell_type": "code",
      "source": [
        "def compute_cost(AL,Y):\n",
        "  m=Y.shape[1]\n",
        "  cost = (1./m) * (-np.dot(Y,np.log(AL).T) - np.dot(1-Y, np.log(1-AL).T))\n",
        "  cost=np.squeeze(cost)\n",
        "  return cost"
      ],
      "metadata": {
        "id": "ubxfOfMxivKp"
      },
      "execution_count": null,
      "outputs": []
    },
    {
      "cell_type": "code",
      "source": [
        "def linear_backward(dZ,cache):\n",
        "  A_prev,W,b=cache\n",
        "  m=A_prev.shape[1]\n",
        "  dW=(1./m)*(np.dot(dZ,A_prev.T))\n",
        "  db=(1./m)*np.sum(dZ,axis=1,keepdims=True)\n",
        "  dA_prev=np.dot(W.T,dZ)\n",
        "  return dA_prev,dW,db"
      ],
      "metadata": {
        "id": "Eu3RfEcrlUuT"
      },
      "execution_count": null,
      "outputs": []
    },
    {
      "cell_type": "code",
      "source": [
        "def diff_sigmoid(dA,cache):\n",
        "  Z=cache\n",
        "  s=1/(1+np.exp(-Z))\n",
        "  dZ=dA*s*(1-s)\n",
        "  return dZ"
      ],
      "metadata": {
        "id": "yPPch9B9pvq_"
      },
      "execution_count": null,
      "outputs": []
    },
    {
      "cell_type": "code",
      "source": [
        "def diff_relu(dA,cache):\n",
        "  Z=cache\n",
        "  dZ=np.array(dA,copy=True)\n",
        "  dZ[Z<=0]=0\n",
        "  return dZ"
      ],
      "metadata": {
        "id": "1MuNOz2pqZLs"
      },
      "execution_count": null,
      "outputs": []
    },
    {
      "cell_type": "code",
      "source": [
        "def linear_activation_backward(dA,cache,activation):\n",
        "    linear_cache,activation_cache=cache\n",
        "    if activation==\"relu\":\n",
        "      dZ=diff_relu(dA,activation_cache)\n",
        "      dA_prev,dW,db=linear_backward(dZ,linear_cache)\n",
        "    elif activation==\"sigmoid\":\n",
        "      dZ=diff_sigmoid(dA,activation_cache)\n",
        "      dA_prev,dW,db=linear_backward(dZ,linear_cache)\n",
        "    return dA_prev,dW,db"
      ],
      "metadata": {
        "id": "XZkaHul4pk7t"
      },
      "execution_count": null,
      "outputs": []
    },
    {
      "cell_type": "code",
      "source": [
        "def L_model_backward(AL,Y,caches):\n",
        "    grads={}\n",
        "    L=len(caches)\n",
        "    m=AL.shape[1]\n",
        "    Y=Y.reshape(AL.shape)\n",
        "    dAL=-(np.divide(Y,AL)-np.divide(1-Y,1-AL))\n",
        "    current_cache=caches[L-1]\n",
        "    grads[\"dA\" + str(L-1)], grads[\"dW\" + str(L)], grads[\"db\" + str(L)] = linear_activation_backward(dAL, current_cache, activation = \"sigmoid\")\n",
        "    for l in reversed(range(L-1)):\n",
        "        current_cache=caches[l]\n",
        "        dA_prev_temp, dW_temp, db_temp = linear_activation_backward(grads[\"dA\" + str(l + 1)], current_cache, activation = \"relu\")\n",
        "        grads[\"dA\"+str(l)]=dA_prev_temp\n",
        "        grads[\"dW\"+str(l+1)]=dW_temp\n",
        "        grads[\"db\"+str(l+1)]=db_temp\n",
        "    return grads\n"
      ],
      "metadata": {
        "id": "eM-uoGOSsQl0"
      },
      "execution_count": null,
      "outputs": []
    },
    {
      "cell_type": "code",
      "source": [
        "def update_parameters(parameters,grads,learning_rate):\n",
        "    \n",
        "    L=len(parameters)//2\n",
        "    for l in range(L):\n",
        "      parameters[\"W\" + str(l+1)] = parameters[\"W\" + str(l+1)] - learning_rate * grads[\"dW\" + str(l+1)]\n",
        "      parameters[\"b\" + str(l+1)] = parameters[\"b\" + str(l+1)] - learning_rate * grads[\"db\" + str(l+1)]\n",
        "    return parameters\n"
      ],
      "metadata": {
        "id": "gjo654XNwExD"
      },
      "execution_count": null,
      "outputs": []
    },
    {
      "cell_type": "code",
      "source": [
        "layers_dims=[12288,20,7,5,1]"
      ],
      "metadata": {
        "id": "ga1q2wA4Dcea"
      },
      "execution_count": null,
      "outputs": []
    },
    {
      "cell_type": "code",
      "source": [
        "n_x=layer_sizes(X1,Y1)[0]\n",
        "layers_dims1=[n_x,20,7,5,1]"
      ],
      "metadata": {
        "id": "P2wotfj4EoBO"
      },
      "execution_count": null,
      "outputs": []
    },
    {
      "cell_type": "code",
      "source": [
        "def L_layer_model(X,Y,layers_dims,learning_rate=0.0075,num_iterations=3000,print_cost=False):\n",
        "  np.random.seed(1)\n",
        "  costs=[]\n",
        "  \n",
        "  parameters=initialize_parameters_deep(layers_dims)\n",
        "  for i in range(0,num_iterations):\n",
        "    AL,caches=L_model_forward(X,parameters)\n",
        "    cost=compute_cost(AL,Y)\n",
        "    grads=L_model_backward(AL,Y,caches)\n",
        "    parameters=update_parameters(parameters,grads,learning_rate)\n",
        "    if print_cost and i % 100 == 0 or i == num_iterations - 1:\n",
        "       print(\"Cost after iteration {}: {}\".format(i, np.squeeze(cost)))\n",
        "    if i % 100 == 0 or i == num_iterations:\n",
        "        costs.append(cost)\n",
        "  return parameters,costs"
      ],
      "metadata": {
        "id": "TA_LyO8TyX59"
      },
      "execution_count": null,
      "outputs": []
    },
    {
      "cell_type": "code",
      "source": [
        "def predict(X,Y,parameters):\n",
        "  m=X.shape[1]\n",
        "  n=len(parameters)//2\n",
        "  p=np.zeros((1,m))\n",
        "  prob,caches=L_model_forward(X,parameters)\n",
        "  for i in range(0,prob.shape[1]):\n",
        "      if prob[0,i]>0.5:\n",
        "         p[0,i]=1\n",
        "      else:\n",
        "         p[0,i]=0\n",
        "  print(\"Accuracy: \"  + str(np.sum((p == Y)/m)))\n",
        "  return p"
      ],
      "metadata": {
        "id": "9cea4tg3z5gd"
      },
      "execution_count": null,
      "outputs": []
    },
    {
      "cell_type": "code",
      "source": [
        "parameters, costs = L_layer_model(train_set_x,train_set_y_orig, layers_dims,num_iterations=2500, print_cost = True)\n",
        "print(\"Cost after first iteration: \" + str(costs[0]))\n"
      ],
      "metadata": {
        "colab": {
          "base_uri": "https://localhost:8080/"
        },
        "id": "OVo2XzUM791r",
        "outputId": "1b2108f4-d7a4-418f-e608-3e033dbf0a61"
      },
      "execution_count": null,
      "outputs": [
        {
          "output_type": "stream",
          "name": "stdout",
          "text": [
            "Cost after iteration 0: 0.7717493284237686\n",
            "Cost after iteration 100: 0.6720534400822914\n",
            "Cost after iteration 200: 0.6482632048575212\n",
            "Cost after iteration 300: 0.6115068816101354\n",
            "Cost after iteration 400: 0.5670473268366111\n",
            "Cost after iteration 500: 0.5401376634547801\n",
            "Cost after iteration 600: 0.5279299569455267\n",
            "Cost after iteration 700: 0.46547737717668514\n",
            "Cost after iteration 800: 0.36912585249592794\n",
            "Cost after iteration 900: 0.39174697434805344\n",
            "Cost after iteration 1000: 0.3151869888600617\n",
            "Cost after iteration 1100: 0.2726998441789385\n",
            "Cost after iteration 1200: 0.23741853400268137\n",
            "Cost after iteration 1300: 0.19960120532208644\n",
            "Cost after iteration 1400: 0.18926300388463305\n",
            "Cost after iteration 1500: 0.1611885466582775\n",
            "Cost after iteration 1600: 0.14821389662363316\n",
            "Cost after iteration 1700: 0.13777487812972944\n",
            "Cost after iteration 1800: 0.12974017549190123\n",
            "Cost after iteration 1900: 0.12122535068005212\n",
            "Cost after iteration 2000: 0.1138206066863371\n",
            "Cost after iteration 2100: 0.10783928526254132\n",
            "Cost after iteration 2200: 0.10285466069352679\n",
            "Cost after iteration 2300: 0.10089745445261787\n",
            "Cost after iteration 2400: 0.09287821526472397\n",
            "Cost after iteration 2499: 0.08843994344170202\n",
            "Cost after first iteration: 0.7717493284237686\n"
          ]
        }
      ]
    },
    {
      "cell_type": "code",
      "source": [
        "predict_train=predict(train_set_x,train_set_y_orig,parameters)"
      ],
      "metadata": {
        "colab": {
          "base_uri": "https://localhost:8080/"
        },
        "id": "5IgRE9K-FwMS",
        "outputId": "7d252c10-3c67-48b6-a86e-ff632d929345"
      },
      "execution_count": null,
      "outputs": [
        {
          "output_type": "stream",
          "name": "stdout",
          "text": [
            "Accuracy: 0.9856459330143539\n"
          ]
        }
      ]
    },
    {
      "cell_type": "code",
      "source": [
        "predict_test=predict(test_set_x,test_set_y_orig,parameters)"
      ],
      "metadata": {
        "colab": {
          "base_uri": "https://localhost:8080/"
        },
        "id": "cbBA3_KcG-8U",
        "outputId": "c913868a-9426-41dc-cd87-d4f68cfe3412"
      },
      "execution_count": null,
      "outputs": [
        {
          "output_type": "stream",
          "name": "stdout",
          "text": [
            "Accuracy: 0.8\n"
          ]
        }
      ]
    },
    {
      "cell_type": "code",
      "source": [
        "#prediction\n",
        "def prediction(w,b,X):\n",
        "  m=X.shape[1]\n",
        "  Y_pred=np.zeros((1,m))\n",
        "  w=w.reshape(X.shape[0],1)\n",
        "  z=np.dot(w,X)+b\n",
        "  A=1/(1+np.exp(-z))\n",
        "  for i in range(A.shape[1]):\n",
        "    if(A[0,i])>0.5:\n",
        "      Y_pred[0,i]=1\n",
        "    else:\n",
        "      Y_pred[0,i]=0\n",
        "  return Y_pred\n"
      ],
      "metadata": {
        "id": "0-6A3kccIGJV"
      },
      "execution_count": null,
      "outputs": []
    },
    {
      "cell_type": "code",
      "source": [
        "from PIL import Image\n",
        "from scipy import ndimage\n",
        "fname=\"/content/drive/MyDrive/DataSet_cat&non-cat/Capture2.JPG\"\n",
        "f3name=\"/content/drive/MyDrive/DataSet_cat&non-cat/arceus1.jpg\"\n",
        "image=np.array(Image.open(f3name).resize((img_dim,img_dim)))\n",
        "plt.imshow(image)\n",
        "image=image/255.\n",
        "image=image.reshape((1,img_dim*img_dim*3)).T\n",
        "pred_img=predict(image,[1],parameters)\n",
        "print(\"y= \"+str(np.squeeze(pred_img))+\", this a \"+classes[int(np.squeeze(pred_img)),].decode(\"utf-8\"))"
      ],
      "metadata": {
        "colab": {
          "base_uri": "https://localhost:8080/",
          "height": 303
        },
        "id": "b2b7wT3THyX4",
        "outputId": "dd0034a9-535a-434a-fdd1-b0b22c2f885b"
      },
      "execution_count": null,
      "outputs": [
        {
          "output_type": "stream",
          "name": "stdout",
          "text": [
            "Accuracy: 0.0\n",
            "y= 0.0, this a non-cat\n"
          ]
        },
        {
          "output_type": "display_data",
          "data": {
            "text/plain": [
              "<Figure size 432x288 with 1 Axes>"
            ],
            "image/png": "[encoded data removed]"
          },
          "metadata": {
            "needs_background": "light"
          }
        }
      ]
    }
  ]
}